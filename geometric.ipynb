{
 "cells": [
  {
   "cell_type": "code",
   "execution_count": null,
   "metadata": {},
   "outputs": [],
   "source": [
    "import pickle\n",
    "import matplotlib.pyplot as plt\n",
    "import numpy as np"
   ]
  },
  {
   "cell_type": "code",
   "execution_count": null,
   "metadata": {},
   "outputs": [],
   "source": []
  },
  {
   "attachments": {},
   "cell_type": "markdown",
   "metadata": {},
   "source": [
    "## Obtention of the curves of the paper"
   ]
  },
  {
   "cell_type": "code",
   "execution_count": 2,
   "metadata": {},
   "outputs": [
    {
     "name": "stderr",
     "output_type": "stream",
     "text": [
      "c:\\Users\\roman\\miniforge3\\envs\\AI\\lib\\site-packages\\tqdm\\auto.py:22: TqdmWarning: IProgress not found. Please update jupyter and ipywidgets. See https://ipywidgets.readthedocs.io/en/stable/user_install.html\n",
      "  from .autonotebook import tqdm as notebook_tqdm\n"
     ]
    },
    {
     "ename": "ModuleNotFoundError",
     "evalue": "No module named 'torch_scatter'",
     "output_type": "error",
     "traceback": [
      "\u001b[1;31m---------------------------------------------------------------------------\u001b[0m",
      "\u001b[1;31mModuleNotFoundError\u001b[0m                       Traceback (most recent call last)",
      "Cell \u001b[1;32mIn[2], line 1\u001b[0m\n\u001b[1;32m----> 1\u001b[0m \u001b[39mfrom\u001b[39;00m \u001b[39mutils\u001b[39;00m \u001b[39mimport\u001b[39;00m plot_confidence_interval\n",
      "File \u001b[1;32md:\\OneDrive\\OneDrive - enpc.fr\\Documents\\Roman\\MVA\\geometric\\Geometric_project\\utils.py:1\u001b[0m\n\u001b[1;32m----> 1\u001b[0m \u001b[39mfrom\u001b[39;00m \u001b[39mtorch_geometric\u001b[39;00m\u001b[39m.\u001b[39;00m\u001b[39mdatasets\u001b[39;00m \u001b[39mimport\u001b[39;00m UPFD\n\u001b[0;32m      2\u001b[0m \u001b[39mfrom\u001b[39;00m \u001b[39mtorch_geometric\u001b[39;00m\u001b[39m.\u001b[39;00m\u001b[39mtransforms\u001b[39;00m \u001b[39mimport\u001b[39;00m ToUndirected\n\u001b[0;32m      3\u001b[0m \u001b[39mfrom\u001b[39;00m \u001b[39mtorch\u001b[39;00m\u001b[39m.\u001b[39;00m\u001b[39mutils\u001b[39;00m\u001b[39m.\u001b[39;00m\u001b[39mdata\u001b[39;00m \u001b[39mimport\u001b[39;00m ConcatDataset\n",
      "File \u001b[1;32mc:\\Users\\roman\\miniforge3\\envs\\AI\\lib\\site-packages\\torch_geometric\\__init__.py:1\u001b[0m\n\u001b[1;32m----> 1\u001b[0m \u001b[39mimport\u001b[39;00m \u001b[39mtorch_geometric\u001b[39;00m\u001b[39m.\u001b[39;00m\u001b[39mutils\u001b[39;00m\n\u001b[0;32m      2\u001b[0m \u001b[39mimport\u001b[39;00m \u001b[39mtorch_geometric\u001b[39;00m\u001b[39m.\u001b[39;00m\u001b[39mdata\u001b[39;00m\n\u001b[0;32m      3\u001b[0m \u001b[39mimport\u001b[39;00m \u001b[39mtorch_geometric\u001b[39;00m\u001b[39m.\u001b[39;00m\u001b[39msampler\u001b[39;00m\n",
      "File \u001b[1;32mc:\\Users\\roman\\miniforge3\\envs\\AI\\lib\\site-packages\\torch_geometric\\utils\\__init__.py:1\u001b[0m\n\u001b[1;32m----> 1\u001b[0m \u001b[39mfrom\u001b[39;00m \u001b[39m.\u001b[39;00m\u001b[39mscatter\u001b[39;00m \u001b[39mimport\u001b[39;00m scatter\n\u001b[0;32m      2\u001b[0m \u001b[39mfrom\u001b[39;00m \u001b[39m.\u001b[39;00m\u001b[39mdegree\u001b[39;00m \u001b[39mimport\u001b[39;00m degree\n\u001b[0;32m      3\u001b[0m \u001b[39mfrom\u001b[39;00m \u001b[39m.\u001b[39;00m\u001b[39msoftmax\u001b[39;00m \u001b[39mimport\u001b[39;00m softmax\n",
      "File \u001b[1;32mc:\\Users\\roman\\miniforge3\\envs\\AI\\lib\\site-packages\\torch_geometric\\utils\\scatter.py:5\u001b[0m\n\u001b[0;32m      2\u001b[0m \u001b[39mfrom\u001b[39;00m \u001b[39mtyping\u001b[39;00m \u001b[39mimport\u001b[39;00m Optional\n\u001b[0;32m      4\u001b[0m \u001b[39mimport\u001b[39;00m \u001b[39mtorch\u001b[39;00m\n\u001b[1;32m----> 5\u001b[0m \u001b[39mimport\u001b[39;00m \u001b[39mtorch_scatter\u001b[39;00m\n\u001b[0;32m      6\u001b[0m \u001b[39mfrom\u001b[39;00m \u001b[39mtorch\u001b[39;00m \u001b[39mimport\u001b[39;00m Tensor\n\u001b[0;32m      7\u001b[0m \u001b[39mfrom\u001b[39;00m \u001b[39mtorch_scatter\u001b[39;00m \u001b[39mimport\u001b[39;00m scatter_max, scatter_min, scatter_mul\n",
      "\u001b[1;31mModuleNotFoundError\u001b[0m: No module named 'torch_scatter'"
     ]
    }
   ],
   "source": [
    "from utils import plot_confidence_interval"
   ]
  },
  {
   "cell_type": "code",
   "execution_count": 1,
   "metadata": {},
   "outputs": [],
   "source": [
    "infile = open(\"/content/drive/MyDrive/geometric/results_all_go.pickle\",'rb')\n",
    "results = pickle.load(infile)"
   ]
  },
  {
   "cell_type": "code",
   "execution_count": null,
   "metadata": {},
   "outputs": [],
   "source": [
    "aucs = []\n",
    "accs = []\n",
    "for [label_log, prob_log, acc, f1_macro, f1_micro, precision, recall, auc, ap], test_loss in results : \n",
    "    aucs.append(auc)\n",
    "    accs.append(acc)"
   ]
  },
  {
   "cell_type": "code",
   "execution_count": null,
   "metadata": {},
   "outputs": [],
   "source": [
    "aucs = np.array(aucs).reshape(8, 5)\n",
    "means_aucs = np.mean(aucs, axis = 1)\n",
    "\n",
    "accs = np.array(accs).reshape(8, 5)\n",
    "means_accs = np.mean(accs, axis = 1)"
   ]
  },
  {
   "cell_type": "code",
   "execution_count": null,
   "metadata": {},
   "outputs": [],
   "source": [
    "### plot aucs\n",
    "fig, ax = plt.subplots(figsize = (12,8))\n",
    "plot_confidence_interval(ax, np.arange(8)[1:], (aucs)[1:])\n",
    "ax.plot(range(8)[1:], means_aucs[1:], linewidth = 0.5)\n",
    "\n",
    "ax.set_xticklabels([ '', 'profile', 'content', 'spacy', 'bert', 'content \\n spacy', 'content \\n bert', 'content \\n spacy \\n bert']);\n",
    "ax.tick_params(axis='both', which='major', labelsize=18)\n",
    "\n",
    "ax.grid()\n",
    "fig.savefig('aucs curves')"
   ]
  },
  {
   "cell_type": "code",
   "execution_count": null,
   "metadata": {},
   "outputs": [],
   "source": [
    "### plot accs\n",
    "fig, ax = plt.subplots(figsize = (12,8))\n",
    "plot_confidence_interval(ax, np.arange(8)[1:], (accs)[1:])\n",
    "ax.plot(range(8)[1:], means_accs[1:], linewidth = 0.5)\n",
    "\n",
    "ax.set_xticklabels([ '', 'profile', 'content', 'spacy', 'bert', 'content \\n spacy', 'content \\n bert', 'content \\n spacy \\n bert']);\n",
    "ax.tick_params(axis='both', which='major', labelsize=18)\n",
    "\n",
    "ax.grid()\n",
    "fig.savefig('accs curves')"
   ]
  },
  {
   "attachments": {},
   "cell_type": "markdown",
   "metadata": {},
   "source": [
    "## T-test"
   ]
  },
  {
   "cell_type": "code",
   "execution_count": null,
   "metadata": {},
   "outputs": [],
   "source": [
    "from scipy.stats import ttest_ind\n",
    "\n",
    "t_statistic, p_value = ttest_ind(accs[-5], accs[-3])\n",
    "\n",
    "t_statistic, p_value"
   ]
  },
  {
   "cell_type": "code",
   "execution_count": null,
   "metadata": {},
   "outputs": [],
   "source": []
  }
 ],
 "metadata": {
  "kernelspec": {
   "display_name": "AI",
   "language": "python",
   "name": "python3"
  },
  "language_info": {
   "codemirror_mode": {
    "name": "ipython",
    "version": 3
   },
   "file_extension": ".py",
   "mimetype": "text/x-python",
   "name": "python",
   "nbconvert_exporter": "python",
   "pygments_lexer": "ipython3",
   "version": "3.10.8"
  },
  "orig_nbformat": 4,
  "vscode": {
   "interpreter": {
    "hash": "3033f848ed370738630f3a3cb9a7f2f4870fa28c419203709bd755408439557d"
   }
  }
 },
 "nbformat": 4,
 "nbformat_minor": 2
}
